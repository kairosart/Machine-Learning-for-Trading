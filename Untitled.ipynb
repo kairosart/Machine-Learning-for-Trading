{
 "cells": [
  {
   "cell_type": "markdown",
   "metadata": {},
   "source": [
    "## Read data from CSV file"
   ]
  },
  {
   "cell_type": "code",
   "execution_count": null,
   "metadata": {},
   "outputs": [],
   "source": [
    "import pandas as pd\n",
    "import matplotlib.pyplot as plt\n",
    "df = pd.read_csv(\"data/AAPL.csv\")"
   ]
  },
  {
   "cell_type": "markdown",
   "metadata": {},
   "source": [
    "## Select rows"
   ]
  },
  {
   "cell_type": "code",
   "execution_count": 3,
   "metadata": {},
   "outputs": [
    {
     "name": "stdout",
     "output_type": "stream",
     "text": [
      "          Date    Open    High     Low   Close    Volume  Adj Close\n",
      "10  2012-08-28  674.98  676.10  670.67  674.80   9550600     674.80\n",
      "11  2012-08-27  679.99  680.87  673.54  675.68  15250300     675.68\n",
      "12  2012-08-24  659.51  669.48  655.55  663.22  15619300     663.22\n",
      "13  2012-08-23  666.11  669.90  661.15  662.63  15004600     662.63\n",
      "14  2012-08-22  654.42  669.00  648.11  668.87  20190100     668.87\n",
      "15  2012-08-21  670.82  674.88  650.33  656.06  29025700     656.06\n",
      "16  2012-08-20  650.01  665.15  649.90  665.15  21906600     665.15\n",
      "17  2012-08-17  640.00  648.19  638.81  648.11  15812900     648.11\n",
      "18  2012-08-16  631.21  636.76  630.50  636.34   9090500     636.34\n",
      "19  2012-08-15  631.30  634.00  627.75  630.83   9190800     630.83\n",
      "20  2012-08-14  631.87  638.61  630.21  631.69  12148900     631.69\n"
     ]
    }
   ],
   "source": [
    "print(df[10:21])"
   ]
  },
  {
   "cell_type": "markdown",
   "metadata": {},
   "source": [
    "## Compute max closing price"
   ]
  },
  {
   "cell_type": "code",
   "execution_count": 5,
   "metadata": {},
   "outputs": [],
   "source": [
    "def get_max_close(symbol):\n",
    "    return df['Close'].max()"
   ]
  },
  {
   "cell_type": "code",
   "execution_count": 6,
   "metadata": {},
   "outputs": [
    {
     "name": "stdout",
     "output_type": "stream",
     "text": [
      "Max. close\n",
      "AAPL 680.44\n",
      "Max. close\n",
      "IBM 680.44\n"
     ]
    }
   ],
   "source": [
    "for symbol in ['AAPL', 'IBM']:\n",
    "    print('Max. close')\n",
    "    print(symbol, get_max_close(symbol))"
   ]
  },
  {
   "cell_type": "markdown",
   "metadata": {},
   "source": [
    "## Plotting two columns"
   ]
  },
  {
   "cell_type": "code",
   "execution_count": 2,
   "metadata": {},
   "outputs": [
    {
     "data": {
      "text/plain": [
       "<matplotlib.axes._subplots.AxesSubplot at 0x7fc5cdc86ef0>"
      ]
     },
     "execution_count": 2,
     "metadata": {},
     "output_type": "execute_result"
    },
    {
     "data": {
      "image/png": "[encoded data removed]",
      "text/plain": [
       "<Figure size 432x288 with 1 Axes>"
      ]
     },
     "metadata": {},
     "output_type": "display_data"
    }
   ],
   "source": [
    "df[['Close', 'Adj Close']].plot()"
   ]
  },
  {
   "cell_type": "code",
   "execution_count": null,
   "metadata": {},
   "outputs": [],
   "source": []
  }
 ],
 "metadata": {
  "kernelspec": {
   "display_name": "Python 3",
   "language": "python",
   "name": "python3"
  },
  "language_info": {
   "codemirror_mode": {
    "name": "ipython",
    "version": 3
   },
   "file_extension": ".py",
   "mimetype": "text/x-python",
   "name": "python",
   "nbconvert_exporter": "python",
   "pygments_lexer": "ipython3",
   "version": "3.6.4"
  }
 },
 "nbformat": 4,
 "nbformat_minor": 2
}
